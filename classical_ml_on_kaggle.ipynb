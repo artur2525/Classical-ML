{
 "cells": [
  {
   "cell_type": "code",
   "execution_count": null,
   "metadata": {
    "id": "620hcmDP7BWs"
   },
   "outputs": [],
   "source": [
    "#import all of libraries\n",
    "\n",
    "import pandas as pd\n",
    "import numpy as np\n",
    "import matplotlib.pyplot as plt\n",
    "\n",
    "%matplotlib inline\n",
    "\n",
    "from google.colab import drive\n",
    "\n",
    "from sklearn.neighbors import KNeighborsClassifier\n",
    "from sklearn.model_selection import train_test_split\n",
    "from sklearn import datasets\n",
    "from sklearn.pipeline import Pipeline\n",
    "from sklearn.preprocessing import StandardScaler\n",
    "from sklearn.svm import LinearSVC\n",
    "from mlxtend.plotting import plot_decision_regions\n",
    "from sklearn.preprocessing import PolynomialFeatures\n",
    "from sklearn.svm import SVC\n",
    "from sklearn import svm\n",
    "from sklearn.decomposition import PCA\n",
    "from sklearn.metrics import confusion_matrix\n",
    "import csv\n",
    "import timeit\n",
    "\n",
    "\n",
    " \n",
    "\n"
   ]
  },
  {
   "cell_type": "code",
   "execution_count": null,
   "metadata": {
    "colab": {
     "base_uri": "https://localhost:8080/"
    },
    "executionInfo": {
     "elapsed": 14,
     "status": "ok",
     "timestamp": 1633622001175,
     "user": {
      "displayName": "Артур Смирнов",
      "photoUrl": "https://lh3.googleusercontent.com/a-/AOh14Gg2gxK9MeayOvsZ1DA0s0-YrCW0niN5rvWapE1QNw=s64",
      "userId": "11940610574837256558"
     },
     "user_tz": -180
    },
    "id": "GeiMg0afu-MW",
    "outputId": "2f1b611b-c3e2-4dba-bfd2-6e1fa7d50186"
   },
   "outputs": [
    {
     "data": {
      "text/plain": [
       "PCA(copy=True, iterated_power='auto', n_components=None, random_state=None,\n",
       "    svd_solver='auto', tol=0.0, whiten=False)"
      ]
     },
     "execution_count": 2,
     "metadata": {},
     "output_type": "execute_result"
    }
   ],
   "source": [
    "PCA()"
   ]
  },
  {
   "cell_type": "code",
   "execution_count": null,
   "metadata": {
    "colab": {
     "base_uri": "https://localhost:8080/"
    },
    "executionInfo": {
     "elapsed": 19425,
     "status": "ok",
     "timestamp": 1636020176346,
     "user": {
      "displayName": "Артур Смирнов",
      "photoUrl": "https://lh3.googleusercontent.com/a-/AOh14Gg2gxK9MeayOvsZ1DA0s0-YrCW0niN5rvWapE1QNw=s64",
      "userId": "11940610574837256558"
     },
     "user_tz": -180
    },
    "id": "k982UcHxjx55",
    "outputId": "7420b084-20ca-4c4a-d8b2-bf9469b1da1d"
   },
   "outputs": [
    {
     "name": "stdout",
     "output_type": "stream",
     "text": [
      "Mounted at /content/drive\n"
     ]
    }
   ],
   "source": [
    "#connect g_drive\n",
    "drive.mount('/content/drive')"
   ]
  },
  {
   "cell_type": "code",
   "execution_count": null,
   "metadata": {
    "colab": {
     "base_uri": "https://localhost:8080/"
    },
    "executionInfo": {
     "elapsed": 6377,
     "status": "ok",
     "timestamp": 1636020232921,
     "user": {
      "displayName": "Артур Смирнов",
      "photoUrl": "https://lh3.googleusercontent.com/a-/AOh14Gg2gxK9MeayOvsZ1DA0s0-YrCW0niN5rvWapE1QNw=s64",
      "userId": "11940610574837256558"
     },
     "user_tz": -180
    },
    "id": "7zogZIvbkOhS",
    "outputId": "7220cbc8-3751-434f-ec4e-eb9f938ed0e0"
   },
   "outputs": [
    {
     "name": "stdout",
     "output_type": "stream",
     "text": [
      "[21  2  4 ...  2 22 11]\n"
     ]
    }
   ],
   "source": [
    "DIR_DATA = '/content/drive/MyDrive/Colab Notebooks/emnist-letters-train.csv'\n",
    "\n",
    "\n",
    "\n",
    "\n",
    "\n",
    "def upload_mnist():\n",
    "  \n",
    "  from sklearn.preprocessing import StandardScaler\n",
    "  df = pd.read_csv(DIR_DATA, header=None)\n",
    "  \n",
    "  \n",
    "\n",
    "  X = df.iloc[:, 1:].values\n",
    "  y = df.iloc[:, 0].values \n",
    "  \n",
    "\n",
    "  return train_test_split(\n",
    "                      X, y, test_size=0.2, random_state=42) \n",
    "\n",
    "  \n",
    "\n",
    "X_train, X_test, y_train, y_test = upload_mnist()\n",
    "\n",
    "\n",
    "\n",
    "\n",
    "\n"
   ]
  },
  {
   "cell_type": "code",
   "execution_count": null,
   "metadata": {
    "colab": {
     "base_uri": "https://localhost:8080/"
    },
    "executionInfo": {
     "elapsed": 345,
     "status": "ok",
     "timestamp": 1636020241505,
     "user": {
      "displayName": "Артур Смирнов",
      "photoUrl": "https://lh3.googleusercontent.com/a-/AOh14Gg2gxK9MeayOvsZ1DA0s0-YrCW0niN5rvWapE1QNw=s64",
      "userId": "11940610574837256558"
     },
     "user_tz": -180
    },
    "id": "MzS3BO_rZ6bi",
    "outputId": "2de04635-037a-411c-a748-80e2343a7124"
   },
   "outputs": [
    {
     "name": "stdout",
     "output_type": "stream",
     "text": [
      "(71040,)\n"
     ]
    }
   ],
   "source": [
    "print(y_train.shape)"
   ]
  },
  {
   "cell_type": "code",
   "execution_count": null,
   "metadata": {
    "id": "Pje0SElmX9oa"
   },
   "outputs": [],
   "source": [
    "df_t = pd.read_csv('/content/drive/MyDrive/Colab Notebooks/emnist-letters-test-sh.csv', header=None)\n",
    "X_t = df_t.iloc[:, 0:].values\n",
    "\n",
    "\n"
   ]
  },
  {
   "cell_type": "code",
   "execution_count": null,
   "metadata": {
    "id": "6emCHb0r95nw"
   },
   "outputs": [],
   "source": [
    "def predict_static(y_pred, y_test):\n",
    "  from sklearn.metrics import accuracy_score, precision_score, recall_score, f1_score\n",
    "  from sklearn.metrics import classification_report\n",
    "  for i in y_pred, y_test:\n",
    "    print('\\nAccuracy: {:.2f}\\n'.format(accuracy_score(y_test, y_pred)))\n",
    "\n",
    "    print('Micro Precision: {:.2f}'.format(precision_score(y_test, y_pred, average='micro')))\n",
    "    print('Micro Recall: {:.2f}'.format(recall_score(y_test, y_pred, average='micro')))\n",
    "    print('Micro F1-score: {:.2f}\\n'.format(f1_score(y_test, y_pred, average='micro')))\n",
    "\n",
    "    print('Macro Precision: {:.2f}'.format(precision_score(y_test, y_pred, average='macro')))\n",
    "    print('Macro Recall: {:.2f}'.format(recall_score(y_test, y_pred, average='macro')))\n",
    "    print('Macro F1-score: {:.2f}\\n'.format(f1_score(y_test, y_pred, average='macro')))\n",
    "\n",
    "    print('Weighted Precision: {:.2f}'.format(precision_score(y_test, y_pred, average='weighted')))\n",
    "    print('Weighted Recall: {:.2f}'.format(recall_score(y_test, y_pred, average='weighted')))\n",
    "    print('Weighted F1-score: {:.2f}'.format(f1_score(y_test, y_pred, average='weighted')))\n",
    "\n",
    "    \n",
    "    print('\\nClassification Report\\n')\n",
    "    print(classification_report(y_test, y_pred, target_names=['0', '1', '2', '3', '4', '6', '7', '8', '9', '10', '11', '12', '13', '14', '15', '16', '17', '18', '19', '20', '21', '22', '23', '24', '25', '26']))\n",
    "  return i\n",
    "\n"
   ]
  },
  {
   "cell_type": "code",
   "execution_count": null,
   "metadata": {
    "id": "fa78x2-jBZux"
   },
   "outputs": [],
   "source": [
    "def save_predict_csv_mnist(y, filename):\n",
    "  from itertools import zip_longest\n",
    "  a = list(range(1,14801))\n",
    "  d = [a, y]\n",
    "  export_data = zip_longest(*d, fillvalue = '')\n",
    "  with open(filename, 'w', encoding=\"UTF-8\", newline='') as myfile:\n",
    "        wr = csv.writer(myfile)\n",
    "        wr.writerow((\"Id\", \"Category\"))\n",
    "        wr.writerows(export_data)\n",
    "  myfile.close()\n",
    "  return myfile\n"
   ]
  },
  {
   "cell_type": "code",
   "execution_count": null,
   "metadata": {
    "id": "Nhvb17moCm9Z"
   },
   "outputs": [],
   "source": []
  },
  {
   "cell_type": "code",
   "execution_count": null,
   "metadata": {
    "colab": {
     "base_uri": "https://localhost:8080/"
    },
    "executionInfo": {
     "elapsed": 15758,
     "status": "ok",
     "timestamp": 1633546273258,
     "user": {
      "displayName": "Артур Смирнов",
      "photoUrl": "https://lh3.googleusercontent.com/a-/AOh14Gg2gxK9MeayOvsZ1DA0s0-YrCW0niN5rvWapE1QNw=s64",
      "userId": "11940610574837256558"
     },
     "user_tz": -180
    },
    "id": "8xvxJde9v_Bg",
    "outputId": "5b1ca784-db43-4d63-d53e-643723accba1"
   },
   "outputs": [
    {
     "data": {
      "text/plain": [
       "113"
      ]
     },
     "execution_count": 7,
     "metadata": {},
     "output_type": "execute_result"
    }
   ],
   "source": [
    "pca = PCA(n_components = 733)\n",
    "pca.fit (X_small) \n",
    "cumsum = np.cumsum (pca. explained_variance_ratio_) \n",
    "d  =  np.argmax(cumsum >=  0.95)  +  1\n",
    "d"
   ]
  },
  {
   "cell_type": "code",
   "execution_count": null,
   "metadata": {
    "id": "j4E7xA7AtRBU"
   },
   "outputs": [],
   "source": [
    "pca = PCA(n_components = 100)\n"
   ]
  },
  {
   "cell_type": "code",
   "execution_count": null,
   "metadata": {
    "colab": {
     "base_uri": "https://localhost:8080/"
    },
    "executionInfo": {
     "elapsed": 8355,
     "status": "ok",
     "timestamp": 1633762763051,
     "user": {
      "displayName": "Артур Смирнов",
      "photoUrl": "https://lh3.googleusercontent.com/a-/AOh14Gg2gxK9MeayOvsZ1DA0s0-YrCW0niN5rvWapE1QNw=s64",
      "userId": "11940610574837256558"
     },
     "user_tz": -180
    },
    "id": "Tog-m3LUyFAV",
    "outputId": "704efcac-3649-476f-92a0-7cc6cdfec148"
   },
   "outputs": [
    {
     "data": {
      "text/plain": [
       "(71040, 100)"
      ]
     },
     "execution_count": 8,
     "metadata": {},
     "output_type": "execute_result"
    }
   ],
   "source": [
    "X_train = pca.fit_transform(X_train)\n",
    "X_train.shape"
   ]
  },
  {
   "cell_type": "code",
   "execution_count": null,
   "metadata": {
    "colab": {
     "base_uri": "https://localhost:8080/"
    },
    "executionInfo": {
     "elapsed": 15,
     "status": "ok",
     "timestamp": 1633762763053,
     "user": {
      "displayName": "Артур Смирнов",
      "photoUrl": "https://lh3.googleusercontent.com/a-/AOh14Gg2gxK9MeayOvsZ1DA0s0-YrCW0niN5rvWapE1QNw=s64",
      "userId": "11940610574837256558"
     },
     "user_tz": -180
    },
    "id": "iDjgiuwi2pA3",
    "outputId": "55b40f0e-b7a4-4f76-9bbf-55a10b244f29"
   },
   "outputs": [
    {
     "data": {
      "text/plain": [
       "(17760, 100)"
      ]
     },
     "execution_count": 9,
     "metadata": {},
     "output_type": "execute_result"
    }
   ],
   "source": [
    "X_test = pca.transform(X_test)\n",
    "X_test.shape"
   ]
  },
  {
   "cell_type": "code",
   "execution_count": null,
   "metadata": {
    "id": "cseA4RoFrcWH"
   },
   "outputs": [],
   "source": [
    "\n",
    "\n"
   ]
  },
  {
   "cell_type": "code",
   "execution_count": null,
   "metadata": {
    "colab": {
     "base_uri": "https://localhost:8080/",
     "height": 281
    },
    "executionInfo": {
     "elapsed": 262,
     "status": "ok",
     "timestamp": 1633543125933,
     "user": {
      "displayName": "Артур Смирнов",
      "photoUrl": "https://lh3.googleusercontent.com/a-/AOh14Gg2gxK9MeayOvsZ1DA0s0-YrCW0niN5rvWapE1QNw=s64",
      "userId": "11940610574837256558"
     },
     "user_tz": -180
    },
    "id": "mROpuAEmPZJ8",
    "outputId": "87f2a66b-2405-4add-e9b8-58e2058384b3"
   },
   "outputs": [
    {
     "data": {
      "text/plain": [
       "<matplotlib.image.AxesImage at 0x7fc85e40ee50>"
      ]
     },
     "execution_count": 28,
     "metadata": {},
     "output_type": "execute_result"
    },
    {
     "data": {
      "image/png": "[encoded data removed]",
      "text/plain": [
       "<Figure size 432x288 with 1 Axes>"
      ]
     },
     "metadata": {
      "needs_background": "light"
     },
     "output_type": "display_data"
    }
   ],
   "source": [
    "plt.imshow(X_small[9].reshape(1,-1).T)\n"
   ]
  },
  {
   "cell_type": "code",
   "execution_count": null,
   "metadata": {
    "id": "Gj7N62K5UdiZ"
   },
   "outputs": [],
   "source": [
    "clf = svm.SVC(kernel= 'poly', C = 1, random_state=42)"
   ]
  },
  {
   "cell_type": "code",
   "execution_count": null,
   "metadata": {
    "colab": {
     "base_uri": "https://localhost:8080/"
    },
    "executionInfo": {
     "elapsed": 344358,
     "status": "ok",
     "timestamp": 1633637163259,
     "user": {
      "displayName": "Артур Смирнов",
      "photoUrl": "https://lh3.googleusercontent.com/a-/AOh14Gg2gxK9MeayOvsZ1DA0s0-YrCW0niN5rvWapE1QNw=s64",
      "userId": "11940610574837256558"
     },
     "user_tz": -180
    },
    "id": "d5GaiVagKP8P",
    "outputId": "249707de-5bc6-4833-f786-9c47f0350740"
   },
   "outputs": [
    {
     "name": "stdout",
     "output_type": "stream",
     "text": [
      "CPU times: user 5min 45s, sys: 517 ms, total: 5min 45s\n",
      "Wall time: 5min 43s\n"
     ]
    }
   ],
   "source": [
    "%%time\n",
    "\n",
    "clf.fit(X_train, y_train)\n",
    "y_pred = clf.predict(X_test)"
   ]
  },
  {
   "cell_type": "code",
   "execution_count": null,
   "metadata": {
    "colab": {
     "base_uri": "https://localhost:8080/"
    },
    "executionInfo": {
     "elapsed": 527,
     "status": "ok",
     "timestamp": 1633637165061,
     "user": {
      "displayName": "Артур Смирнов",
      "photoUrl": "https://lh3.googleusercontent.com/a-/AOh14Gg2gxK9MeayOvsZ1DA0s0-YrCW0niN5rvWapE1QNw=s64",
      "userId": "11940610574837256558"
     },
     "user_tz": -180
    },
    "id": "jU0pUO8-nefs",
    "outputId": "d9aace60-c2d1-43a0-980e-e4aa2b4f8dc9"
   },
   "outputs": [
    {
     "name": "stdout",
     "output_type": "stream",
     "text": [
      "\n",
      "Accuracy: 0.91\n",
      "\n",
      "Micro Precision: 0.91\n",
      "Micro Recall: 0.91\n",
      "Micro F1-score: 0.91\n",
      "\n",
      "Macro Precision: 0.91\n",
      "Macro Recall: 0.91\n",
      "Macro F1-score: 0.91\n",
      "\n",
      "Weighted Precision: 0.91\n",
      "Weighted Recall: 0.91\n",
      "Weighted F1-score: 0.91\n",
      "\n",
      "Classification Report\n",
      "\n",
      "              precision    recall  f1-score   support\n",
      "\n",
      "           0       0.85      0.93      0.89       684\n",
      "           1       0.94      0.92      0.93       690\n",
      "           2       0.95      0.95      0.95       676\n",
      "           3       0.89      0.91      0.90       629\n",
      "           4       0.92      0.95      0.94       658\n",
      "           6       0.94      0.94      0.94       653\n",
      "           7       0.81      0.79      0.80       691\n",
      "           8       0.91      0.93      0.92       655\n",
      "           9       0.71      0.77      0.74       700\n",
      "          10       0.93      0.92      0.93       659\n",
      "          11       0.95      0.93      0.94       693\n",
      "          12       0.76      0.71      0.74       688\n",
      "          13       0.98      0.96      0.97       675\n",
      "          14       0.92      0.93      0.93       625\n",
      "          15       0.93      0.96      0.95       700\n",
      "          16       0.95      0.96      0.96       775\n",
      "          17       0.81      0.79      0.80       680\n",
      "          18       0.93      0.91      0.92       679\n",
      "          19       0.97      0.96      0.96       720\n",
      "          20       0.93      0.94      0.93       706\n",
      "          21       0.93      0.92      0.93       660\n",
      "          22       0.91      0.92      0.91       686\n",
      "          23       0.97      0.96      0.97       685\n",
      "          24       0.97      0.94      0.96       708\n",
      "          25       0.95      0.90      0.93       695\n",
      "          26       0.97      0.95      0.96       690\n",
      "\n",
      "    accuracy                           0.91     17760\n",
      "   macro avg       0.91      0.91      0.91     17760\n",
      "weighted avg       0.91      0.91      0.91     17760\n",
      "\n",
      "\n",
      "Accuracy: 0.91\n",
      "\n",
      "Micro Precision: 0.91\n",
      "Micro Recall: 0.91\n",
      "Micro F1-score: 0.91\n",
      "\n",
      "Macro Precision: 0.91\n",
      "Macro Recall: 0.91\n",
      "Macro F1-score: 0.91\n",
      "\n",
      "Weighted Precision: 0.91\n",
      "Weighted Recall: 0.91\n",
      "Weighted F1-score: 0.91\n",
      "\n",
      "Classification Report\n",
      "\n",
      "              precision    recall  f1-score   support\n",
      "\n",
      "           0       0.85      0.93      0.89       684\n",
      "           1       0.94      0.92      0.93       690\n",
      "           2       0.95      0.95      0.95       676\n",
      "           3       0.89      0.91      0.90       629\n",
      "           4       0.92      0.95      0.94       658\n",
      "           6       0.94      0.94      0.94       653\n",
      "           7       0.81      0.79      0.80       691\n",
      "           8       0.91      0.93      0.92       655\n",
      "           9       0.71      0.77      0.74       700\n",
      "          10       0.93      0.92      0.93       659\n",
      "          11       0.95      0.93      0.94       693\n",
      "          12       0.76      0.71      0.74       688\n",
      "          13       0.98      0.96      0.97       675\n",
      "          14       0.92      0.93      0.93       625\n",
      "          15       0.93      0.96      0.95       700\n",
      "          16       0.95      0.96      0.96       775\n",
      "          17       0.81      0.79      0.80       680\n",
      "          18       0.93      0.91      0.92       679\n",
      "          19       0.97      0.96      0.96       720\n",
      "          20       0.93      0.94      0.93       706\n",
      "          21       0.93      0.92      0.93       660\n",
      "          22       0.91      0.92      0.91       686\n",
      "          23       0.97      0.96      0.97       685\n",
      "          24       0.97      0.94      0.96       708\n",
      "          25       0.95      0.90      0.93       695\n",
      "          26       0.97      0.95      0.96       690\n",
      "\n",
      "    accuracy                           0.91     17760\n",
      "   macro avg       0.91      0.91      0.91     17760\n",
      "weighted avg       0.91      0.91      0.91     17760\n",
      "\n"
     ]
    },
    {
     "data": {
      "text/plain": [
       "array([22,  1, 26, ..., 13,  1, 24])"
      ]
     },
     "execution_count": 16,
     "metadata": {},
     "output_type": "execute_result"
    }
   ],
   "source": [
    "predict_static(y_pred=y_pred, y_test = y_test)"
   ]
  },
  {
   "cell_type": "code",
   "execution_count": null,
   "metadata": {
    "id": "Uvpx1xkrvxWl"
   },
   "outputs": [],
   "source": [
    "X_t = pca.transform(X_t)\n"
   ]
  },
  {
   "cell_type": "code",
   "execution_count": null,
   "metadata": {
    "id": "M6jviEdbyT0v"
   },
   "outputs": [],
   "source": [
    "y_pred_t = clf.predict(X_t)"
   ]
  },
  {
   "cell_type": "code",
   "execution_count": null,
   "metadata": {
    "colab": {
     "base_uri": "https://localhost:8080/"
    },
    "executionInfo": {
     "elapsed": 31,
     "status": "ok",
     "timestamp": 1633637263976,
     "user": {
      "displayName": "Артур Смирнов",
      "photoUrl": "https://lh3.googleusercontent.com/a-/AOh14Gg2gxK9MeayOvsZ1DA0s0-YrCW0niN5rvWapE1QNw=s64",
      "userId": "11940610574837256558"
     },
     "user_tz": -180
    },
    "id": "3rPzs1bbl-4P",
    "outputId": "043ce851-f807-4a7c-bff7-a3c655986b62"
   },
   "outputs": [
    {
     "data": {
      "text/plain": [
       "<_io.TextIOWrapper name='svm_poly.csv' mode='w' encoding='UTF-8'>"
      ]
     },
     "execution_count": 18,
     "metadata": {},
     "output_type": "execute_result"
    }
   ],
   "source": [
    "\n",
    "save_predict_csv_mnist(y_pred_t, 'svm_poly.csv')"
   ]
  },
  {
   "cell_type": "markdown",
   "metadata": {
    "id": "ufego39Ul98v"
   },
   "source": [
    "\n",
    "KNN"
   ]
  },
  {
   "cell_type": "code",
   "execution_count": null,
   "metadata": {
    "colab": {
     "base_uri": "https://localhost:8080/"
    },
    "executionInfo": {
     "elapsed": 238,
     "status": "ok",
     "timestamp": 1633610719563,
     "user": {
      "displayName": "Артур Смирнов",
      "photoUrl": "https://lh3.googleusercontent.com/a-/AOh14Gg2gxK9MeayOvsZ1DA0s0-YrCW0niN5rvWapE1QNw=s64",
      "userId": "11940610574837256558"
     },
     "user_tz": -180
    },
    "id": "SCnRoHhpCIWW",
    "outputId": "c661ee7c-e1b6-4116-bd3b-bfa19b6cd22e"
   },
   "outputs": [
    {
     "data": {
      "text/plain": [
       "(14800, 100)"
      ]
     },
     "execution_count": 12,
     "metadata": {},
     "output_type": "execute_result"
    }
   ],
   "source": [
    "X_t.shape"
   ]
  },
  {
   "cell_type": "code",
   "execution_count": null,
   "metadata": {
    "id": "TR6bhLtrZbpG"
   },
   "outputs": [],
   "source": [
    "neigh = KNeighborsClassifier(n_neighbors=3)"
   ]
  },
  {
   "cell_type": "code",
   "execution_count": null,
   "metadata": {
    "colab": {
     "base_uri": "https://localhost:8080/"
    },
    "executionInfo": {
     "elapsed": 286913,
     "status": "ok",
     "timestamp": 1633612080350,
     "user": {
      "displayName": "Артур Смирнов",
      "photoUrl": "https://lh3.googleusercontent.com/a-/AOh14Gg2gxK9MeayOvsZ1DA0s0-YrCW0niN5rvWapE1QNw=s64",
      "userId": "11940610574837256558"
     },
     "user_tz": -180
    },
    "id": "4G918FgN4ab5",
    "outputId": "1b982f12-2716-4a67-f33f-89f5228eb1a1"
   },
   "outputs": [
    {
     "name": "stdout",
     "output_type": "stream",
     "text": [
      "CPU times: user 4min 47s, sys: 230 ms, total: 4min 47s\n",
      "Wall time: 4min 46s\n"
     ]
    }
   ],
   "source": [
    "%%time\n",
    "#knn\n",
    "\n",
    "neigh.fit(X_train, y_train)\n",
    "y_pred_KNN = neigh.predict(X_test)\n",
    "\n",
    "\n",
    "\n"
   ]
  },
  {
   "cell_type": "code",
   "execution_count": null,
   "metadata": {
    "colab": {
     "base_uri": "https://localhost:8080/"
    },
    "executionInfo": {
     "elapsed": 393,
     "status": "ok",
     "timestamp": 1633612080729,
     "user": {
      "displayName": "Артур Смирнов",
      "photoUrl": "https://lh3.googleusercontent.com/a-/AOh14Gg2gxK9MeayOvsZ1DA0s0-YrCW0niN5rvWapE1QNw=s64",
      "userId": "11940610574837256558"
     },
     "user_tz": -180
    },
    "id": "PLMjA1lOz3HU",
    "outputId": "cb6c19c7-1fef-4bf1-95b6-ff19110e6a6f"
   },
   "outputs": [
    {
     "name": "stdout",
     "output_type": "stream",
     "text": [
      "\n",
      "Accuracy: 0.85\n",
      "\n",
      "Micro Precision: 0.85\n",
      "Micro Recall: 0.85\n",
      "Micro F1-score: 0.85\n",
      "\n",
      "Macro Precision: 0.85\n",
      "Macro Recall: 0.85\n",
      "Macro F1-score: 0.85\n",
      "\n",
      "Weighted Precision: 0.85\n",
      "Weighted Recall: 0.85\n",
      "Weighted F1-score: 0.85\n",
      "\n",
      "Classification Report\n",
      "\n",
      "              precision    recall  f1-score   support\n",
      "\n",
      "           0       0.76      0.89      0.82       684\n",
      "           1       0.88      0.86      0.87       690\n",
      "           2       0.79      0.95      0.86       676\n",
      "           3       0.85      0.87      0.86       629\n",
      "           4       0.88      0.86      0.87       658\n",
      "           6       0.83      0.89      0.86       653\n",
      "           7       0.72      0.70      0.71       691\n",
      "           8       0.82      0.91      0.86       655\n",
      "           9       0.58      0.84      0.69       700\n",
      "          10       0.85      0.89      0.87       659\n",
      "          11       0.91      0.87      0.89       693\n",
      "          12       0.65      0.52      0.58       688\n",
      "          13       0.96      0.95      0.96       675\n",
      "          14       0.86      0.87      0.86       625\n",
      "          15       0.82      0.94      0.88       700\n",
      "          16       0.90      0.89      0.89       775\n",
      "          17       0.81      0.54      0.65       680\n",
      "          18       0.86      0.81      0.84       679\n",
      "          19       0.97      0.93      0.95       720\n",
      "          20       0.87      0.83      0.85       706\n",
      "          21       0.88      0.89      0.88       660\n",
      "          22       0.86      0.88      0.87       686\n",
      "          23       0.99      0.88      0.93       685\n",
      "          24       0.97      0.87      0.91       708\n",
      "          25       0.93      0.75      0.83       695\n",
      "          26       0.98      0.92      0.95       690\n",
      "\n",
      "    accuracy                           0.85     17760\n",
      "   macro avg       0.85      0.85      0.85     17760\n",
      "weighted avg       0.85      0.85      0.85     17760\n",
      "\n",
      "\n",
      "Accuracy: 0.85\n",
      "\n",
      "Micro Precision: 0.85\n",
      "Micro Recall: 0.85\n",
      "Micro F1-score: 0.85\n",
      "\n",
      "Macro Precision: 0.85\n",
      "Macro Recall: 0.85\n",
      "Macro F1-score: 0.85\n",
      "\n",
      "Weighted Precision: 0.85\n",
      "Weighted Recall: 0.85\n",
      "Weighted F1-score: 0.85\n",
      "\n",
      "Classification Report\n",
      "\n",
      "              precision    recall  f1-score   support\n",
      "\n",
      "           0       0.76      0.89      0.82       684\n",
      "           1       0.88      0.86      0.87       690\n",
      "           2       0.79      0.95      0.86       676\n",
      "           3       0.85      0.87      0.86       629\n",
      "           4       0.88      0.86      0.87       658\n",
      "           6       0.83      0.89      0.86       653\n",
      "           7       0.72      0.70      0.71       691\n",
      "           8       0.82      0.91      0.86       655\n",
      "           9       0.58      0.84      0.69       700\n",
      "          10       0.85      0.89      0.87       659\n",
      "          11       0.91      0.87      0.89       693\n",
      "          12       0.65      0.52      0.58       688\n",
      "          13       0.96      0.95      0.96       675\n",
      "          14       0.86      0.87      0.86       625\n",
      "          15       0.82      0.94      0.88       700\n",
      "          16       0.90      0.89      0.89       775\n",
      "          17       0.81      0.54      0.65       680\n",
      "          18       0.86      0.81      0.84       679\n",
      "          19       0.97      0.93      0.95       720\n",
      "          20       0.87      0.83      0.85       706\n",
      "          21       0.88      0.89      0.88       660\n",
      "          22       0.86      0.88      0.87       686\n",
      "          23       0.99      0.88      0.93       685\n",
      "          24       0.97      0.87      0.91       708\n",
      "          25       0.93      0.75      0.83       695\n",
      "          26       0.98      0.92      0.95       690\n",
      "\n",
      "    accuracy                           0.85     17760\n",
      "   macro avg       0.85      0.85      0.85     17760\n",
      "weighted avg       0.85      0.85      0.85     17760\n",
      "\n"
     ]
    },
    {
     "data": {
      "text/plain": [
       "array([22,  1, 26, ..., 13,  1, 24])"
      ]
     },
     "execution_count": 18,
     "metadata": {},
     "output_type": "execute_result"
    }
   ],
   "source": [
    "predict_static(y_pred= y_pred_KNN, y_test=y_test)"
   ]
  },
  {
   "cell_type": "code",
   "execution_count": null,
   "metadata": {
    "id": "hSaxOUZTJ-Yy"
   },
   "outputs": [],
   "source": [
    "%%time\n",
    "y_pred_t = neigh.predict(X_t)"
   ]
  },
  {
   "cell_type": "code",
   "execution_count": null,
   "metadata": {
    "colab": {
     "base_uri": "https://localhost:8080/"
    },
    "executionInfo": {
     "elapsed": 233,
     "status": "ok",
     "timestamp": 1633536970365,
     "user": {
      "displayName": "Артур Смирнов",
      "photoUrl": "https://lh3.googleusercontent.com/a-/AOh14Gg2gxK9MeayOvsZ1DA0s0-YrCW0niN5rvWapE1QNw=s64",
      "userId": "11940610574837256558"
     },
     "user_tz": -180
    },
    "id": "lXXvOW15BYAF",
    "outputId": "56adb026-418e-406e-c548-66b8f629f1fd"
   },
   "outputs": [
    {
     "data": {
      "text/plain": [
       "<_io.TextIOWrapper name='KNN.csv' mode='w' encoding='UTF-8'>"
      ]
     },
     "execution_count": 64,
     "metadata": {},
     "output_type": "execute_result"
    }
   ],
   "source": [
    "save_predict_csv_mnist(y_pred_t, 'KNN.csv')"
   ]
  },
  {
   "cell_type": "markdown",
   "metadata": {
    "id": "VMt3x9XUJxpb"
   },
   "source": [
    "# Random forest"
   ]
  },
  {
   "cell_type": "code",
   "execution_count": null,
   "metadata": {
    "id": "Ys9rQDwMJ3RC"
   },
   "outputs": [],
   "source": [
    "from sklearn.ensemble import RandomForestClassifier\n",
    "from sklearn.datasets import make_classification\n",
    "\n",
    "clf_rf = RandomForestClassifier(n_estimators=100, random_state=42) \n",
    "                              \n"
   ]
  },
  {
   "cell_type": "code",
   "execution_count": null,
   "metadata": {
    "colab": {
     "base_uri": "https://localhost:8080/"
    },
    "executionInfo": {
     "elapsed": 2931,
     "status": "ok",
     "timestamp": 1633703127632,
     "user": {
      "displayName": "Артур Смирнов",
      "photoUrl": "https://lh3.googleusercontent.com/a-/AOh14Gg2gxK9MeayOvsZ1DA0s0-YrCW0niN5rvWapE1QNw=s64",
      "userId": "11940610574837256558"
     },
     "user_tz": -180
    },
    "id": "J2PgisgtLDID",
    "outputId": "3f0f3e33-b730-45aa-b7ab-6e413e14b3de"
   },
   "outputs": [
    {
     "name": "stdout",
     "output_type": "stream",
     "text": [
      "\n",
      "Accuracy: 0.84\n",
      "\n",
      "Micro Precision: 0.84\n",
      "Micro Recall: 0.84\n",
      "Micro F1-score: 0.84\n",
      "\n",
      "Macro Precision: 0.84\n",
      "Macro Recall: 0.84\n",
      "Macro F1-score: 0.84\n",
      "\n",
      "Weighted Precision: 0.84\n",
      "Weighted Recall: 0.84\n",
      "Weighted F1-score: 0.84\n",
      "\n",
      "Classification Report\n",
      "\n",
      "              precision    recall  f1-score   support\n",
      "\n",
      "           0       0.80      0.76      0.78       684\n",
      "           1       0.87      0.81      0.84       690\n",
      "           2       0.87      0.91      0.89       676\n",
      "           3       0.86      0.81      0.83       629\n",
      "           4       0.85      0.87      0.86       658\n",
      "           6       0.82      0.86      0.84       653\n",
      "           7       0.80      0.61      0.69       691\n",
      "           8       0.82      0.84      0.83       655\n",
      "           9       0.69      0.72      0.70       700\n",
      "          10       0.82      0.88      0.85       659\n",
      "          11       0.84      0.83      0.84       693\n",
      "          12       0.73      0.69      0.71       688\n",
      "          13       0.86      0.93      0.90       675\n",
      "          14       0.83      0.84      0.83       625\n",
      "          15       0.82      0.96      0.89       700\n",
      "          16       0.87      0.90      0.88       775\n",
      "          17       0.72      0.72      0.72       680\n",
      "          18       0.86      0.77      0.81       679\n",
      "          19       0.94      0.93      0.93       720\n",
      "          20       0.85      0.86      0.85       706\n",
      "          21       0.84      0.89      0.86       660\n",
      "          22       0.86      0.87      0.87       686\n",
      "          23       0.88      0.92      0.90       685\n",
      "          24       0.91      0.85      0.88       708\n",
      "          25       0.84      0.83      0.83       695\n",
      "          26       0.91      0.94      0.92       690\n",
      "\n",
      "    accuracy                           0.84     17760\n",
      "   macro avg       0.84      0.84      0.84     17760\n",
      "weighted avg       0.84      0.84      0.84     17760\n",
      "\n",
      "\n",
      "Accuracy: 0.84\n",
      "\n",
      "Micro Precision: 0.84\n",
      "Micro Recall: 0.84\n",
      "Micro F1-score: 0.84\n",
      "\n",
      "Macro Precision: 0.84\n",
      "Macro Recall: 0.84\n",
      "Macro F1-score: 0.84\n",
      "\n",
      "Weighted Precision: 0.84\n",
      "Weighted Recall: 0.84\n",
      "Weighted F1-score: 0.84\n",
      "\n",
      "Classification Report\n",
      "\n",
      "              precision    recall  f1-score   support\n",
      "\n",
      "           0       0.80      0.76      0.78       684\n",
      "           1       0.87      0.81      0.84       690\n",
      "           2       0.87      0.91      0.89       676\n",
      "           3       0.86      0.81      0.83       629\n",
      "           4       0.85      0.87      0.86       658\n",
      "           6       0.82      0.86      0.84       653\n",
      "           7       0.80      0.61      0.69       691\n",
      "           8       0.82      0.84      0.83       655\n",
      "           9       0.69      0.72      0.70       700\n",
      "          10       0.82      0.88      0.85       659\n",
      "          11       0.84      0.83      0.84       693\n",
      "          12       0.73      0.69      0.71       688\n",
      "          13       0.86      0.93      0.90       675\n",
      "          14       0.83      0.84      0.83       625\n",
      "          15       0.82      0.96      0.89       700\n",
      "          16       0.87      0.90      0.88       775\n",
      "          17       0.72      0.72      0.72       680\n",
      "          18       0.86      0.77      0.81       679\n",
      "          19       0.94      0.93      0.93       720\n",
      "          20       0.85      0.86      0.85       706\n",
      "          21       0.84      0.89      0.86       660\n",
      "          22       0.86      0.87      0.87       686\n",
      "          23       0.88      0.92      0.90       685\n",
      "          24       0.91      0.85      0.88       708\n",
      "          25       0.84      0.83      0.83       695\n",
      "          26       0.91      0.94      0.92       690\n",
      "\n",
      "    accuracy                           0.84     17760\n",
      "   macro avg       0.84      0.84      0.84     17760\n",
      "weighted avg       0.84      0.84      0.84     17760\n",
      "\n",
      "CPU times: user 5.47 s, sys: 92 ms, total: 5.56 s\n",
      "Wall time: 3.16 s\n"
     ]
    }
   ],
   "source": [
    "%%time\n",
    "y_pred = clf_rf.predict(X_test)\n",
    "predict_static(y_pred=y_pred, y_test = y_test)\n"
   ]
  },
  {
   "cell_type": "markdown",
   "metadata": {
    "id": "d6peq662LSsL"
   },
   "source": [
    "# Bayes"
   ]
  },
  {
   "cell_type": "code",
   "execution_count": null,
   "metadata": {
    "id": "Ht0tQp3vU03s"
   },
   "outputs": [],
   "source": [
    "from sklearn.naive_bayes import GaussianNB\n",
    "clf_b = GaussianNB()"
   ]
  },
  {
   "cell_type": "code",
   "execution_count": null,
   "metadata": {
    "colab": {
     "base_uri": "https://localhost:8080/"
    },
    "executionInfo": {
     "elapsed": 977,
     "status": "ok",
     "timestamp": 1633637509008,
     "user": {
      "displayName": "Артур Смирнов",
      "photoUrl": "https://lh3.googleusercontent.com/a-/AOh14Gg2gxK9MeayOvsZ1DA0s0-YrCW0niN5rvWapE1QNw=s64",
      "userId": "11940610574837256558"
     },
     "user_tz": -180
    },
    "id": "qkELRJwFLY21",
    "outputId": "12b1bfe5-20cf-45f0-a005-301fcaf147b8"
   },
   "outputs": [
    {
     "data": {
      "text/plain": [
       "GaussianNB(priors=None, var_smoothing=1e-09)"
      ]
     },
     "execution_count": 24,
     "metadata": {},
     "output_type": "execute_result"
    }
   ],
   "source": [
    "\n",
    "\n",
    "clf_b.fit(X_train, y_train)"
   ]
  },
  {
   "cell_type": "code",
   "execution_count": null,
   "metadata": {
    "colab": {
     "base_uri": "https://localhost:8080/"
    },
    "executionInfo": {
     "elapsed": 959,
     "status": "ok",
     "timestamp": 1633637513019,
     "user": {
      "displayName": "Артур Смирнов",
      "photoUrl": "https://lh3.googleusercontent.com/a-/AOh14Gg2gxK9MeayOvsZ1DA0s0-YrCW0niN5rvWapE1QNw=s64",
      "userId": "11940610574837256558"
     },
     "user_tz": -180
    },
    "id": "7lPIGPe5LjAi",
    "outputId": "95305275-cb59-4ae2-be7f-030146a00f90"
   },
   "outputs": [
    {
     "name": "stdout",
     "output_type": "stream",
     "text": [
      "\n",
      "Accuracy: 0.62\n",
      "\n",
      "Micro Precision: 0.62\n",
      "Micro Recall: 0.62\n",
      "Micro F1-score: 0.62\n",
      "\n",
      "Macro Precision: 0.63\n",
      "Macro Recall: 0.62\n",
      "Macro F1-score: 0.62\n",
      "\n",
      "Weighted Precision: 0.63\n",
      "Weighted Recall: 0.62\n",
      "Weighted F1-score: 0.62\n",
      "\n",
      "Classification Report\n",
      "\n",
      "              precision    recall  f1-score   support\n",
      "\n",
      "           0       0.49      0.39      0.44       684\n",
      "           1       0.61      0.59      0.60       690\n",
      "           2       0.67      0.64      0.66       676\n",
      "           3       0.65      0.58      0.61       629\n",
      "           4       0.74      0.64      0.68       658\n",
      "           6       0.68      0.62      0.65       653\n",
      "           7       0.40      0.42      0.41       691\n",
      "           8       0.69      0.64      0.66       655\n",
      "           9       0.58      0.74      0.65       700\n",
      "          10       0.61      0.67      0.64       659\n",
      "          11       0.58      0.66      0.62       693\n",
      "          12       0.44      0.32      0.37       688\n",
      "          13       0.84      0.81      0.83       675\n",
      "          14       0.54      0.55      0.54       625\n",
      "          15       0.54      0.81      0.65       700\n",
      "          16       0.77      0.63      0.69       775\n",
      "          17       0.41      0.55      0.47       680\n",
      "          18       0.47      0.61      0.53       679\n",
      "          19       0.82      0.72      0.77       720\n",
      "          20       0.57      0.56      0.56       706\n",
      "          21       0.58      0.43      0.49       660\n",
      "          22       0.63      0.67      0.65       686\n",
      "          23       0.74      0.83      0.78       685\n",
      "          24       0.75      0.63      0.68       708\n",
      "          25       0.64      0.60      0.62       695\n",
      "          26       0.86      0.76      0.81       690\n",
      "\n",
      "    accuracy                           0.62     17760\n",
      "   macro avg       0.63      0.62      0.62     17760\n",
      "weighted avg       0.63      0.62      0.62     17760\n",
      "\n",
      "\n",
      "Accuracy: 0.62\n",
      "\n",
      "Micro Precision: 0.62\n",
      "Micro Recall: 0.62\n",
      "Micro F1-score: 0.62\n",
      "\n",
      "Macro Precision: 0.63\n",
      "Macro Recall: 0.62\n",
      "Macro F1-score: 0.62\n",
      "\n",
      "Weighted Precision: 0.63\n",
      "Weighted Recall: 0.62\n",
      "Weighted F1-score: 0.62\n",
      "\n",
      "Classification Report\n",
      "\n",
      "              precision    recall  f1-score   support\n",
      "\n",
      "           0       0.49      0.39      0.44       684\n",
      "           1       0.61      0.59      0.60       690\n",
      "           2       0.67      0.64      0.66       676\n",
      "           3       0.65      0.58      0.61       629\n",
      "           4       0.74      0.64      0.68       658\n",
      "           6       0.68      0.62      0.65       653\n",
      "           7       0.40      0.42      0.41       691\n",
      "           8       0.69      0.64      0.66       655\n",
      "           9       0.58      0.74      0.65       700\n",
      "          10       0.61      0.67      0.64       659\n",
      "          11       0.58      0.66      0.62       693\n",
      "          12       0.44      0.32      0.37       688\n",
      "          13       0.84      0.81      0.83       675\n",
      "          14       0.54      0.55      0.54       625\n",
      "          15       0.54      0.81      0.65       700\n",
      "          16       0.77      0.63      0.69       775\n",
      "          17       0.41      0.55      0.47       680\n",
      "          18       0.47      0.61      0.53       679\n",
      "          19       0.82      0.72      0.77       720\n",
      "          20       0.57      0.56      0.56       706\n",
      "          21       0.58      0.43      0.49       660\n",
      "          22       0.63      0.67      0.65       686\n",
      "          23       0.74      0.83      0.78       685\n",
      "          24       0.75      0.63      0.68       708\n",
      "          25       0.64      0.60      0.62       695\n",
      "          26       0.86      0.76      0.81       690\n",
      "\n",
      "    accuracy                           0.62     17760\n",
      "   macro avg       0.63      0.62      0.62     17760\n",
      "weighted avg       0.63      0.62      0.62     17760\n",
      "\n"
     ]
    },
    {
     "data": {
      "text/plain": [
       "array([22,  1, 26, ..., 13,  1, 24])"
      ]
     },
     "execution_count": 25,
     "metadata": {},
     "output_type": "execute_result"
    }
   ],
   "source": [
    "y_pred = clf_b.predict(X_test)\n",
    "predict_static(y_pred=y_pred, y_test = y_test)\n"
   ]
  },
  {
   "cell_type": "markdown",
   "metadata": {
    "id": "BRhapO_dML5K"
   },
   "source": [
    "# Voiting clasifer\n"
   ]
  },
  {
   "cell_type": "code",
   "execution_count": null,
   "metadata": {
    "id": "wcQGn4YCMKil"
   },
   "outputs": [],
   "source": [
    "from sklearn.ensemble import VotingClassifier\n",
    "from sklearn.linear_model import LogisticRegression\n",
    "svm_clf_2 = SVC(gamma=\"scale\", probability=True, random_state=42)\n",
    "log_clf = log_clf = LogisticRegression(random_state=42)\n",
    "voting_clf_2 = VotingClassifier(\n",
    "    estimators=[('lr', log_clf), ('rf', clf_rf), ('svc', clf)],\n",
    "    voting='hard')\n",
    "                  "
   ]
  },
  {
   "cell_type": "code",
   "execution_count": null,
   "metadata": {
    "colab": {
     "base_uri": "https://localhost:8080/"
    },
    "executionInfo": {
     "elapsed": 475363,
     "status": "ok",
     "timestamp": 1633763286262,
     "user": {
      "displayName": "Артур Смирнов",
      "photoUrl": "https://lh3.googleusercontent.com/a-/AOh14Gg2gxK9MeayOvsZ1DA0s0-YrCW0niN5rvWapE1QNw=s64",
      "userId": "11940610574837256558"
     },
     "user_tz": -180
    },
    "id": "XMDpdE0mU9p_",
    "outputId": "534bfcdc-97c9-4dec-d35d-9b354c16dccb"
   },
   "outputs": [
    {
     "name": "stderr",
     "output_type": "stream",
     "text": [
      "/usr/local/lib/python3.7/dist-packages/sklearn/linear_model/_logistic.py:940: ConvergenceWarning: lbfgs failed to converge (status=1):\n",
      "STOP: TOTAL NO. of ITERATIONS REACHED LIMIT.\n",
      "\n",
      "Increase the number of iterations (max_iter) or scale the data as shown in:\n",
      "    https://scikit-learn.org/stable/modules/preprocessing.html\n",
      "Please also refer to the documentation for alternative solver options:\n",
      "    https://scikit-learn.org/stable/modules/linear_model.html#logistic-regression\n",
      "  extra_warning_msg=_LOGISTIC_SOLVER_CONVERGENCE_MSG)\n"
     ]
    },
    {
     "data": {
      "text/plain": [
       "VotingClassifier(estimators=[('lr',\n",
       "                              LogisticRegression(C=1.0, class_weight=None,\n",
       "                                                 dual=False, fit_intercept=True,\n",
       "                                                 intercept_scaling=1,\n",
       "                                                 l1_ratio=None, max_iter=100,\n",
       "                                                 multi_class='auto',\n",
       "                                                 n_jobs=None, penalty='l2',\n",
       "                                                 random_state=42,\n",
       "                                                 solver='lbfgs', tol=0.0001,\n",
       "                                                 verbose=0, warm_start=False)),\n",
       "                             ('rf',\n",
       "                              RandomForestClassifier(bootstrap=True,\n",
       "                                                     ccp_alpha=0.0,\n",
       "                                                     class_weight=None,\n",
       "                                                     crit...\n",
       "                                                     oob_score=False,\n",
       "                                                     random_state=42, verbose=0,\n",
       "                                                     warm_start=False)),\n",
       "                             ('svc',\n",
       "                              SVC(C=1, break_ties=False, cache_size=200,\n",
       "                                  class_weight=None, coef0=0.0,\n",
       "                                  decision_function_shape='ovr', degree=3,\n",
       "                                  gamma='scale', kernel='poly', max_iter=-1,\n",
       "                                  probability=False, random_state=42,\n",
       "                                  shrinking=True, tol=0.001, verbose=False))],\n",
       "                 flatten_transform=True, n_jobs=None, voting='hard',\n",
       "                 weights=None)"
      ]
     },
     "execution_count": 16,
     "metadata": {},
     "output_type": "execute_result"
    }
   ],
   "source": [
    "voting_clf_2.fit(X_train, y_train)"
   ]
  },
  {
   "cell_type": "code",
   "execution_count": null,
   "metadata": {
    "colab": {
     "base_uri": "https://localhost:8080/"
    },
    "executionInfo": {
     "elapsed": 146842,
     "status": "ok",
     "timestamp": 1633713401647,
     "user": {
      "displayName": "Артур Смирнов",
      "photoUrl": "https://lh3.googleusercontent.com/a-/AOh14Gg2gxK9MeayOvsZ1DA0s0-YrCW0niN5rvWapE1QNw=s64",
      "userId": "11940610574837256558"
     },
     "user_tz": -180
    },
    "id": "sT8OeF2lVIP6",
    "outputId": "59a479e6-b85f-4756-c4bc-248e35d0cbe0"
   },
   "outputs": [
    {
     "name": "stdout",
     "output_type": "stream",
     "text": [
      "\n",
      "Accuracy: 0.89\n",
      "\n",
      "Micro Precision: 0.89\n",
      "Micro Recall: 0.89\n",
      "Micro F1-score: 0.89\n",
      "\n",
      "Macro Precision: 0.89\n",
      "Macro Recall: 0.89\n",
      "Macro F1-score: 0.89\n",
      "\n",
      "Weighted Precision: 0.89\n",
      "Weighted Recall: 0.89\n",
      "Weighted F1-score: 0.88\n",
      "\n",
      "Classification Report\n",
      "\n",
      "              precision    recall  f1-score   support\n",
      "\n",
      "           0       0.86      0.82      0.84       695\n",
      "           1       0.89      0.91      0.90       637\n",
      "           2       0.93      0.92      0.92       689\n",
      "           3       0.89      0.87      0.88       683\n",
      "           4       0.92      0.92      0.92       676\n",
      "           6       0.90      0.90      0.90       676\n",
      "           7       0.82      0.73      0.77       669\n",
      "           8       0.86      0.89      0.88       683\n",
      "           9       0.71      0.74      0.73       682\n",
      "          10       0.90      0.90      0.90       662\n",
      "          11       0.90      0.88      0.89       673\n",
      "          12       0.75      0.74      0.75       727\n",
      "          13       0.92      0.96      0.94       677\n",
      "          14       0.88      0.87      0.88       681\n",
      "          15       0.90      0.97      0.93       649\n",
      "          16       0.89      0.93      0.91       704\n",
      "          17       0.81      0.83      0.82       723\n",
      "          18       0.90      0.88      0.89       699\n",
      "          19       0.96      0.95      0.96       678\n",
      "          20       0.91      0.91      0.91       695\n",
      "          21       0.89      0.92      0.91       677\n",
      "          22       0.93      0.91      0.92       688\n",
      "          23       0.93      0.96      0.94       676\n",
      "          24       0.96      0.91      0.93       702\n",
      "          25       0.89      0.88      0.88       658\n",
      "          26       0.92      0.95      0.94       701\n",
      "\n",
      "    accuracy                           0.89     17760\n",
      "   macro avg       0.89      0.89      0.89     17760\n",
      "weighted avg       0.89      0.89      0.88     17760\n",
      "\n",
      "\n",
      "Accuracy: 0.89\n",
      "\n",
      "Micro Precision: 0.89\n",
      "Micro Recall: 0.89\n",
      "Micro F1-score: 0.89\n",
      "\n",
      "Macro Precision: 0.89\n",
      "Macro Recall: 0.89\n",
      "Macro F1-score: 0.89\n",
      "\n",
      "Weighted Precision: 0.89\n",
      "Weighted Recall: 0.89\n",
      "Weighted F1-score: 0.88\n",
      "\n",
      "Classification Report\n",
      "\n",
      "              precision    recall  f1-score   support\n",
      "\n",
      "           0       0.86      0.82      0.84       695\n",
      "           1       0.89      0.91      0.90       637\n",
      "           2       0.93      0.92      0.92       689\n",
      "           3       0.89      0.87      0.88       683\n",
      "           4       0.92      0.92      0.92       676\n",
      "           6       0.90      0.90      0.90       676\n",
      "           7       0.82      0.73      0.77       669\n",
      "           8       0.86      0.89      0.88       683\n",
      "           9       0.71      0.74      0.73       682\n",
      "          10       0.90      0.90      0.90       662\n",
      "          11       0.90      0.88      0.89       673\n",
      "          12       0.75      0.74      0.75       727\n",
      "          13       0.92      0.96      0.94       677\n",
      "          14       0.88      0.87      0.88       681\n",
      "          15       0.90      0.97      0.93       649\n",
      "          16       0.89      0.93      0.91       704\n",
      "          17       0.81      0.83      0.82       723\n",
      "          18       0.90      0.88      0.89       699\n",
      "          19       0.96      0.95      0.96       678\n",
      "          20       0.91      0.91      0.91       695\n",
      "          21       0.89      0.92      0.91       677\n",
      "          22       0.93      0.91      0.92       688\n",
      "          23       0.93      0.96      0.94       676\n",
      "          24       0.96      0.91      0.93       702\n",
      "          25       0.89      0.88      0.88       658\n",
      "          26       0.92      0.95      0.94       701\n",
      "\n",
      "    accuracy                           0.89     17760\n",
      "   macro avg       0.89      0.89      0.89     17760\n",
      "weighted avg       0.89      0.89      0.88     17760\n",
      "\n"
     ]
    },
    {
     "data": {
      "text/plain": [
       "array([ 7, 13,  2, ..., 13, 14, 12])"
      ]
     },
     "execution_count": 38,
     "metadata": {},
     "output_type": "execute_result"
    }
   ],
   "source": [
    "y_pred = voting_clf_2.predict(X_test)\n",
    "\n",
    "predict_static(y_pred=y_pred, y_test = y_test)"
   ]
  },
  {
   "cell_type": "code",
   "execution_count": null,
   "metadata": {
    "id": "zmGSRSnWuiAn"
   },
   "outputs": [],
   "source": [
    "y_pred = voting_clf.predict(X_t)"
   ]
  },
  {
   "cell_type": "code",
   "execution_count": null,
   "metadata": {
    "colab": {
     "base_uri": "https://localhost:8080/"
    },
    "executionInfo": {
     "elapsed": 250,
     "status": "ok",
     "timestamp": 1633710574683,
     "user": {
      "displayName": "Артур Смирнов",
      "photoUrl": "https://lh3.googleusercontent.com/a-/AOh14Gg2gxK9MeayOvsZ1DA0s0-YrCW0niN5rvWapE1QNw=s64",
      "userId": "11940610574837256558"
     },
     "user_tz": -180
    },
    "id": "_oVEP56SNHw9",
    "outputId": "5aa25771-f3e3-4778-9db8-5c52f181f07b"
   },
   "outputs": [
    {
     "data": {
      "text/plain": [
       "<_io.TextIOWrapper name='KNN.csv' mode='w' encoding='UTF-8'>"
      ]
     },
     "execution_count": 29,
     "metadata": {},
     "output_type": "execute_result"
    }
   ],
   "source": [
    "\n",
    "save_predict_csv_mnist(y_pred, 'Voit.csv')"
   ]
  }
 ],
 "metadata": {
  "colab": {
   "authorship_tag": "ABX9TyPJO9X846vr+g6oamH+jWOD",
   "collapsed_sections": [],
   "name": "hw kg.ipynb",
   "provenance": []
  },
  "kernelspec": {
   "display_name": "Python 3 (ipykernel)",
   "language": "python",
   "name": "python3"
  },
  "language_info": {
   "codemirror_mode": {
    "name": "ipython",
    "version": 3
   },
   "file_extension": ".py",
   "mimetype": "text/x-python",
   "name": "python",
   "nbconvert_exporter": "python",
   "pygments_lexer": "ipython3",
   "version": "3.9.12"
  }
 },
 "nbformat": 4,
 "nbformat_minor": 1
}
